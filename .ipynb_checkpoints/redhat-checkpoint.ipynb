{
 "cells": [
  {
   "cell_type": "code",
   "execution_count": 1,
   "metadata": {
    "collapsed": false
   },
   "outputs": [],
   "source": [
    "import pandas as pd\n",
    "import numpy as np\n",
    "\n",
    "from sklearn.linear_model import LogisticRegression\n",
    "from sklearn.grid_search import GridSearchCV\n",
    "import xgboost as xgb\n",
    "from xgboost.sklearn import XGBClassifier\n",
    "from sklearn import cross_validation, metrics\n",
    "\n",
    "import matplotlib.pylab as plt\n",
    "%matplotlib inline\n",
    "\n",
    "import time\n",
    "import datetime\n",
    "\n"
   ]
  },
  {
   "cell_type": "markdown",
   "metadata": {},
   "source": [
    "## Reading Data"
   ]
  },
  {
   "cell_type": "code",
   "execution_count": 2,
   "metadata": {
    "collapsed": false
   },
   "outputs": [
    {
     "name": "stdout",
     "output_type": "stream",
     "text": [
      "Reading people.csv...\n",
      "Reading train.csv...\n",
      "Reading test.csv...\n"
     ]
    }
   ],
   "source": [
    "print(\"Reading people.csv...\")\n",
    "people = pd.read_csv(\"../input/people.csv\",\n",
    "                    dtype={'people_id': np.str,\n",
    "                          'char_38': np.int8},\n",
    "                    parse_dates=['date'])\n",
    "\n",
    "print('Reading train.csv...')\n",
    "train = pd.read_csv(\"../input/act_train.csv\",\n",
    "                   dtype={'people_id': np.str,\n",
    "                         'activity_id': np.str,\n",
    "                         'outcome': np.int8},\n",
    "                   parse_dates=['date'])\n",
    "\n",
    "print('Reading test.csv...')\n",
    "test = pd.read_csv('../input/act_test.csv',\n",
    "                  dtype={'people_id': np.str,\n",
    "                        'activity_id': np.str},\n",
    "                  parse_dates=['date'])"
   ]
  },
  {
   "cell_type": "markdown",
   "metadata": {},
   "source": [
    "## Cleaning data (rewrite date format and drop 'type')"
   ]
  },
  {
   "cell_type": "code",
   "execution_count": 3,
   "metadata": {
    "collapsed": false
   },
   "outputs": [],
   "source": [
    "for table in [train, test]:\n",
    "    table['year'] = table['date'].dt.year\n",
    "    table['month'] = table['date'].dt.month\n",
    "    table['day'] = table['date'].dt.day\n",
    "    table.drop('date', axis=1, inplace=True)\n",
    "    table['activity_category'] =table['activity_category'].str.lstrip('type').astype(np.int32)\n",
    "    \n",
    "    for i in range(1, 11):\n",
    "        table['char_' + str(i)].fillna('type -999', inplace=True)\n",
    "        table['char_' + str(i)] = table['char_' + str(i)].str.lstrip('type').astype(np.int32)\n",
    "        \n",
    "people['year']=people['date'].dt.year\n",
    "people['month']=people['date'].dt.month\n",
    "people['day']=people['date'].dt.day\n",
    "\n",
    "people['group_1']=people['group_1'].str.lstrip('group').astype(np.int32)\n",
    "people.drop('date', axis = 1, inplace=True)\n",
    "\n",
    "for i in range(1, 10):\n",
    "    people['char_' + str(i)]=people['char_' + str(i)].str.lstrip('type').astype(np.int32)\n",
    "for i in range(10, 38):\n",
    "    people['char_' + str(i)]=people['char_' + str(i)].astype(np.int32)"
   ]
  },
  {
   "cell_type": "markdown",
   "metadata": {},
   "source": [
    "## Merging activity table with people table"
   ]
  },
  {
   "cell_type": "code",
   "execution_count": 4,
   "metadata": {
    "collapsed": false
   },
   "outputs": [
    {
     "name": "stdout",
     "output_type": "stream",
     "text": [
      "shape of train:(2197291, 59)\n",
      "shape of test:(498687, 58)\n"
     ]
    }
   ],
   "source": [
    "train_merge = pd.merge(train, people, how = 'left', on = 'people_id', left_index = True)\n",
    "test_merge = pd.merge(test, people, how = 'left', on = 'people_id', left_index = True)\n",
    "#train_merge.shape\n",
    "print('shape of train:{}'.format(train_merge.shape))\n",
    "print('shape of test:{}'.format(test_merge.shape))"
   ]
  },
  {
   "cell_type": "markdown",
   "metadata": {},
   "source": [
    "## Define some useful functions"
   ]
  },
  {
   "cell_type": "code",
   "execution_count": 5,
   "metadata": {
    "collapsed": false
   },
   "outputs": [],
   "source": [
    "## intersect returns a list containg the features shared by both train and test\n",
    "def intersect(train, test):\n",
    "    trainval = list(train.columns.values)\n",
    "    testval = list(test.columns.values)\n",
    "    return(list(set(trainval)&set(testval)))\n",
    "    \n",
    "## create csv file for submission\n",
    "def create_submission(score, test, prediction):\n",
    "    time = datetime.datetime.now()\n",
    "    sub_file = 'submission' + str(score) + '_' + str(time.strftime(\"%Y-%m-%d-%H-%M\")) + '.csv'\n",
    "    f = open(sub_file, 'w')\n",
    "    f.write('activity_id,outcome\\n')\n",
    "    total = 0\n",
    "    for id in test['activity_id']:\n",
    "        str1 = str(id) + ',' + str(prediction[total])\n",
    "        str1 += '\\n'\n",
    "        total += 1\n",
    "        f.write(str1)\n",
    "    f.close()"
   ]
  },
  {
   "cell_type": "code",
   "execution_count": 6,
   "metadata": {
    "collapsed": false,
    "scrolled": true
   },
   "outputs": [],
   "source": [
    "features = [x for x in intersect(train_merge, test_merge) if x not in ['people_id', 'activity_id']]\n",
    "target = 'outcome'"
   ]
  },
  {
   "cell_type": "markdown",
   "metadata": {},
   "source": [
    "## Logistic Regression"
   ]
  },
  {
   "cell_type": "code",
   "execution_count": null,
   "metadata": {
    "collapsed": false
   },
   "outputs": [],
   "source": [
    "#GridSearchCV for regulization factor C\n",
    "param_test = {'C': list(range(100, 1000, 200))}\n",
    "gsearch = GridSearchCV(estimator = LogisticRegression(random_state=2016), \n",
    "                       param_grid = param_test, scoring='roc_auc', n_jobs=3, cv=3)\n",
    "gsearch.fit(train_merge[features], train_merge[target])"
   ]
  },
  {
   "cell_type": "code",
   "execution_count": null,
   "metadata": {
    "collapsed": false
   },
   "outputs": [],
   "source": [
    "gsearch.grid_scores_, gsearch.best_score_, gsearch.best_params_, gsearch.scorer_, gsearch.best_estimator_"
   ]
  },
  {
   "cell_type": "code",
   "execution_count": null,
   "metadata": {
    "collapsed": false
   },
   "outputs": [],
   "source": [
    "lgs = LogisticRegression(C=900, n_jobs=1, random_state=2016)\n",
    "lgs.fit(train_merge[features], train_merge[target])"
   ]
  },
  {
   "cell_type": "code",
   "execution_count": null,
   "metadata": {
    "collapsed": false
   },
   "outputs": [],
   "source": [
    "score = lgs.score(train_merge[features], train_merge[target])\n",
    "prediction = lgs.predict(test_merge[features])\n",
    "print('mean accuracy in training data:', score)"
   ]
  },
  {
   "cell_type": "markdown",
   "metadata": {
    "collapsed": false
   },
   "source": [
    "## XGBoost"
   ]
  },
  {
   "cell_type": "code",
   "execution_count": 8,
   "metadata": {
    "collapsed": false
   },
   "outputs": [],
   "source": [
    "def modelfit(alg, train, features, useTrainCV=True, cv_folds=3,\n",
    "            early_stopping_rounds=5):\n",
    "    if useTrainCV:\n",
    "        xgb_param = alg.get_xgb_params()\n",
    "        xgtrain = xgb.DMatrix(train[features].values, \n",
    "                              label=train[target].values)\n",
    "        cvresult = xgb.cv(xgb_param, xgtrain, \n",
    "                          num_boost_round=alg.get_params()['n_estimators'],\n",
    "                         nfold=cv_folds, metrics='auc', early_stopping_rounds\n",
    "                         =early_stopping_rounds)\n",
    "        alg.set_params(n_estimators=cvresult.shape[0])\n",
    "        print(cvresult)\n",
    "        \n",
    "        #Fit the algorithm on the data\n",
    "        alg.fit(train[features], train[target], eval_metric='auc')\n",
    "        \n",
    "        train_predictions = alg.predict(train[features])\n",
    "        train_predprob = alg.predict_proba(train[features])[:,1]\n",
    "        \n",
    "        #Print model report\n",
    "        print(\"\\nModel Report\")\n",
    "        print(\"Accuracy: {0: .4g}\".format(metrics.accuracy_score(train[target].values,\n",
    "                                                                train_predictions)))\n",
    "        print(\"AUC score: {0: f}\".format(metrics.roc_auc_score(train[target], \n",
    "                                                              train_predprob)))\n",
    "        \n",
    "        feat_imp = pd.Series(alg.booster().get_fscore()).sort_values(ascending=False)\n",
    "        feat_imp.plot(kind='bar', title='Feature Importance')\n",
    "        plt.ylabel('Feature Importance Score')"
   ]
  },
  {
   "cell_type": "code",
   "execution_count": 9,
   "metadata": {
    "collapsed": false
   },
   "outputs": [
    {
     "name": "stdout",
     "output_type": "stream",
     "text": [
      "     test-auc-mean  test-auc-std  train-auc-mean  train-auc-std\n",
      "0         0.895408      0.000297        0.895408       0.000149\n",
      "1         0.907318      0.000874        0.907469       0.000712\n",
      "2         0.909351      0.001580        0.909430       0.001437\n",
      "3         0.910301      0.002395        0.910453       0.002193\n",
      "4         0.911741      0.003142        0.911855       0.002949\n",
      "5         0.915704      0.003278        0.915751       0.003299\n",
      "6         0.917184      0.003843        0.917225       0.003882\n",
      "7         0.920274      0.002179        0.920314       0.002374\n",
      "8         0.921279      0.002399        0.921303       0.002600\n",
      "9         0.922853      0.001053        0.922923       0.001162\n",
      "10        0.924001      0.001469        0.924032       0.001492\n",
      "11        0.924836      0.001406        0.924863       0.001413\n",
      "12        0.925558      0.001007        0.925594       0.001030\n",
      "13        0.926140      0.000519        0.926194       0.000596\n",
      "14        0.927033      0.001433        0.927061       0.001508\n",
      "15        0.927636      0.001243        0.927663       0.001302\n",
      "16        0.928641      0.000953        0.928707       0.001021\n",
      "17        0.928955      0.000796        0.928992       0.000870\n",
      "18        0.929353      0.000949        0.929425       0.001028\n",
      "19        0.930151      0.000803        0.930226       0.000811\n",
      "20        0.930747      0.000770        0.930832       0.000779\n",
      "21        0.931120      0.000757        0.931212       0.000767\n",
      "22        0.931302      0.000784        0.931388       0.000791\n",
      "23        0.931565      0.000881        0.931643       0.000897\n",
      "24        0.931852      0.000861        0.931932       0.000849\n",
      "25        0.932125      0.000749        0.932206       0.000734\n",
      "26        0.932420      0.000835        0.932499       0.000822\n",
      "27        0.932776      0.000836        0.932848       0.000798\n",
      "28        0.932924      0.000790        0.933005       0.000746\n",
      "29        0.933153      0.000766        0.933233       0.000728\n",
      "..             ...           ...             ...            ...\n",
      "970       0.977526      0.000128        0.978540       0.000108\n",
      "971       0.977538      0.000120        0.978554       0.000103\n",
      "972       0.977547      0.000121        0.978562       0.000101\n",
      "973       0.977552      0.000123        0.978568       0.000104\n",
      "974       0.977560      0.000119        0.978577       0.000092\n",
      "975       0.977568      0.000122        0.978586       0.000092\n",
      "976       0.977580      0.000121        0.978597       0.000097\n",
      "977       0.977586      0.000121        0.978603       0.000099\n",
      "978       0.977606      0.000125        0.978623       0.000100\n",
      "979       0.977613      0.000128        0.978630       0.000106\n",
      "980       0.977621      0.000128        0.978640       0.000105\n",
      "981       0.977635      0.000118        0.978652       0.000102\n",
      "982       0.977643      0.000121        0.978660       0.000101\n",
      "983       0.977653      0.000109        0.978669       0.000092\n",
      "984       0.977673      0.000097        0.978690       0.000089\n",
      "985       0.977693      0.000099        0.978711       0.000078\n",
      "986       0.977707      0.000104        0.978727       0.000076\n",
      "987       0.977719      0.000106        0.978739       0.000075\n",
      "988       0.977725      0.000108        0.978745       0.000077\n",
      "989       0.977734      0.000100        0.978752       0.000073\n",
      "990       0.977744      0.000099        0.978762       0.000073\n",
      "991       0.977770      0.000076        0.978790       0.000057\n",
      "992       0.977788      0.000078        0.978809       0.000072\n",
      "993       0.977795      0.000073        0.978818       0.000067\n",
      "994       0.977803      0.000077        0.978826       0.000067\n",
      "995       0.977813      0.000086        0.978836       0.000072\n",
      "996       0.977825      0.000092        0.978847       0.000075\n",
      "997       0.977842      0.000100        0.978862       0.000077\n",
      "998       0.977857      0.000109        0.978876       0.000080\n",
      "999       0.977863      0.000105        0.978883       0.000078\n",
      "\n",
      "[1000 rows x 4 columns]\n",
      "\n",
      "Model Report\n",
      "Accuracy:  0.9223\n",
      "AUC score:  0.979234\n"
     ]
    },
    {
     "data": {
      "image/png": "[encoded data removed]",
      "text/plain": [
       "<matplotlib.figure.Figure at 0x7f64c883dfd0>"
      ]
     },
     "metadata": {},
     "output_type": "display_data"
    }
   ],
   "source": [
    "xgb1 = XGBClassifier(\n",
    "learning_rate=0.3,\n",
    "n_estimators=1000,\n",
    "max_depth=3,\n",
    "min_child_weight=1,\n",
    "gamma=0,\n",
    "subsample=0.8,\n",
    "colsample_bytree=0.8,\n",
    "objective='binary:logistic',\n",
    "nthread=4,\n",
    "scale_pos_weight=1,\n",
    "seed=27)\n",
    "\n",
    "modelfit(xgb1, train_merge, features)"
   ]
  },
  {
   "cell_type": "code",
   "execution_count": 10,
   "metadata": {
    "collapsed": false,
    "scrolled": true
   },
   "outputs": [
    {
     "data": {
      "text/plain": [
       "{'base_score': 0.5,\n",
       " 'colsample_bylevel': 1,\n",
       " 'colsample_bytree': 0.8,\n",
       " 'gamma': 0,\n",
       " 'learning_rate': 0.3,\n",
       " 'max_delta_step': 0,\n",
       " 'max_depth': 3,\n",
       " 'min_child_weight': 1,\n",
       " 'missing': None,\n",
       " 'n_estimators': 1000,\n",
       " 'nthread': 4,\n",
       " 'objective': 'binary:logistic',\n",
       " 'reg_alpha': 0,\n",
       " 'reg_lambda': 1,\n",
       " 'scale_pos_weight': 1,\n",
       " 'seed': 27,\n",
       " 'silent': True,\n",
       " 'subsample': 0.8}"
      ]
     },
     "execution_count": 10,
     "metadata": {},
     "output_type": "execute_result"
    }
   ],
   "source": [
    "xgb1.get_params()"
   ]
  },
  {
   "cell_type": "code",
   "execution_count": 19,
   "metadata": {
    "collapsed": true
   },
   "outputs": [],
   "source": [
    "predictions = xgb1.predict(test_merge[features])"
   ]
  },
  {
   "cell_type": "code",
   "execution_count": 16,
   "metadata": {
    "collapsed": false
   },
   "outputs": [
    {
     "name": "stdout",
     "output_type": "stream",
     "text": [
      "time cost: 54102.29862546921\n"
     ]
    }
   ],
   "source": [
    "start_time = time.time()\n",
    "param_test1 = {\n",
    "    'max_depth':[5, 7, 9],\n",
    "    'min_child_weight':[1, 3, 5]\n",
    "}\n",
    "\n",
    "gsearch1 = GridSearchCV(estimator = XGBClassifier(learning_rate=0.3, \n",
    "                                                 n_estimators=300, min_child_weight=1,\n",
    "                                                 gamma=0, subsample=0.8, scale_pos_weight=1,\n",
    "                                                 seed=27), \n",
    "                        param_grid=param_test1, scoring='roc_auc', n_jobs=4, iid=False, cv=3)\n",
    "gsearch1.fit(train_merge[features], train_merge[target])\n",
    "print('time cost:', time.time()-start_time)"
   ]
  },
  {
   "cell_type": "code",
   "execution_count": 17,
   "metadata": {
    "collapsed": false
   },
   "outputs": [
    {
     "data": {
      "text/plain": [
       "([mean: 0.94539, std: 0.00689, params: {'min_child_weight': 1, 'max_depth': 5},\n",
       "  mean: 0.94986, std: 0.00190, params: {'min_child_weight': 3, 'max_depth': 5},\n",
       "  mean: 0.94811, std: 0.00271, params: {'min_child_weight': 5, 'max_depth': 5},\n",
       "  mean: 0.94831, std: 0.01189, params: {'min_child_weight': 1, 'max_depth': 7},\n",
       "  mean: 0.95663, std: 0.00202, params: {'min_child_weight': 3, 'max_depth': 7},\n",
       "  mean: 0.94435, std: 0.01653, params: {'min_child_weight': 5, 'max_depth': 7},\n",
       "  mean: 0.95801, std: 0.00302, params: {'min_child_weight': 1, 'max_depth': 9},\n",
       "  mean: 0.95837, std: 0.00174, params: {'min_child_weight': 3, 'max_depth': 9},\n",
       "  mean: 0.95279, std: 0.00839, params: {'min_child_weight': 5, 'max_depth': 9}],\n",
       " {'max_depth': 9, 'min_child_weight': 3},\n",
       " 0.95836900386744561)"
      ]
     },
     "execution_count": 17,
     "metadata": {},
     "output_type": "execute_result"
    }
   ],
   "source": [
    "gsearch1.grid_scores_, gsearch1.best_params_, gsearch1.best_score_"
   ]
  },
  {
   "cell_type": "code",
   "execution_count": 20,
   "metadata": {
    "collapsed": false
   },
   "outputs": [],
   "source": []
  },
  {
   "cell_type": "code",
   "execution_count": null,
   "metadata": {
    "collapsed": true
   },
   "outputs": [],
   "source": []
  }
 ],
 "metadata": {
  "anaconda-cloud": {},
  "kernelspec": {
   "display_name": "Python [Root]",
   "language": "python",
   "name": "Python [Root]"
  },
  "language_info": {
   "codemirror_mode": {
    "name": "ipython",
    "version": 3
   },
   "file_extension": ".py",
   "mimetype": "text/x-python",
   "name": "python",
   "nbconvert_exporter": "python",
   "pygments_lexer": "ipython3",
   "version": "3.5.2"
  }
 },
 "nbformat": 4,
 "nbformat_minor": 0
}
