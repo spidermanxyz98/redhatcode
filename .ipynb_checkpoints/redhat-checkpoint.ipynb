{
 "cells": [
  {
   "cell_type": "code",
   "execution_count": 1,
   "metadata": {
    "collapsed": true
   },
   "outputs": [],
   "source": [
    "import pandas as pd\n",
    "import numpy as np"
   ]
  },
  {
   "cell_type": "code",
   "execution_count": 7,
   "metadata": {
    "collapsed": false
   },
   "outputs": [
    {
     "name": "stdout",
     "output_type": "stream",
     "text": [
      "Reading people.csv...\n",
      "Reading train.csv...\n",
      "Reading test.csv...\n"
     ]
    }
   ],
   "source": [
    "print(\"Reading people.csv...\")\n",
    "people = pd.read_csv(\"../input/people.csv\",\n",
    "                    dtype={'people_id': np.str,\n",
    "                          'char_38': np.int8},\n",
    "                    parse_dates=['date'])\n",
    "\n",
    "print('Reading train.csv...')\n",
    "train = pd.read_csv(\"../input/act_train.csv\",\n",
    "                   dtype={'people_id': np.str,\n",
    "                         'activity_id': np.str,\n",
    "                         'outcome': np.int8},\n",
    "                   parse_dates=['date'])\n",
    "\n",
    "print('Reading test.csv...')\n",
    "test = pd.read_csv('../input/act_test.csv',\n",
    "                  dtype={'people_id': np.str,\n",
    "                        'activity_id': np.str},\n",
    "                  parse_dates=['date'])\n",
    "\n",
    "for table in [train, test]:\n",
    "    table['year'] = table['date'].dt.year\n",
    "    table['month'] = table['date'].dt.month\n",
    "    table['day'] = table['date'].dt.day\n",
    "    table.drop('date', axis=1, inplace=True)\n",
    "    \n",
    "    for i in range(1, 11):\n",
    "        table['char_' + str(i)].fillna('type -999', inplace=True)\n",
    "        table['char_' + str(i)].str.lstrip('type').astype(np.int32)\n",
    "        \n",
    "people['year']=people['date'].dt.year\n",
    "people['month']=people['date'].dt.month\n",
    "people['day']=people['date'].dt.day\n",
    "\n",
    "people['group_1']=people['group_1'].str.lstrip('group').astype(np.int32)\n",
    "\n",
    "for i in range(1, 10):\n",
    "    people['char_' + str(i)]=people['char_' + str(i)].str.lstrip('type').astype(np.int32)\n",
    "for i in range(10, 38):\n",
    "    people['char_' + str(i)]=people['char_' + str(i)].astype(np.int32)"
   ]
  },
  {
   "cell_type": "code",
   "execution_count": 10,
   "metadata": {
    "collapsed": false
   },
   "outputs": [],
   "source": [
    "for table in [train, test, people]:\n",
    "    table.head(5)"
   ]
  },
  {
   "cell_type": "code",
   "execution_count": null,
   "metadata": {
    "collapsed": true
   },
   "outputs": [],
   "source": []
  }
 ],
 "metadata": {
  "anaconda-cloud": {},
  "kernelspec": {
   "display_name": "Python [Root]",
   "language": "python",
   "name": "Python [Root]"
  },
  "language_info": {
   "codemirror_mode": {
    "name": "ipython",
    "version": 3
   },
   "file_extension": ".py",
   "mimetype": "text/x-python",
   "name": "python",
   "nbconvert_exporter": "python",
   "pygments_lexer": "ipython3",
   "version": "3.5.2"
  }
 },
 "nbformat": 4,
 "nbformat_minor": 0
}
